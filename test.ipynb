{
 "cells": [
  {
   "cell_type": "code",
   "execution_count": 35,
   "metadata": {},
   "outputs": [
    {
     "name": "stderr",
     "output_type": "stream",
     "text": [
      "Some weights of the model checkpoint at bert-base-uncased were not used when initializing BertModel: ['cls.seq_relationship.weight', 'cls.predictions.transform.LayerNorm.weight', 'cls.seq_relationship.bias', 'cls.predictions.transform.dense.bias', 'cls.predictions.transform.dense.weight', 'cls.predictions.bias', 'cls.predictions.transform.LayerNorm.bias', 'cls.predictions.decoder.weight']\n",
      "- This IS expected if you are initializing BertModel from the checkpoint of a model trained on another task or with another architecture (e.g. initializing a BertForSequenceClassification model from a BertForPreTraining model).\n",
      "- This IS NOT expected if you are initializing BertModel from the checkpoint of a model that you expect to be exactly identical (initializing a BertForSequenceClassification model from a BertForSequenceClassification model).\n"
     ]
    },
    {
     "data": {
      "text/plain": [
       "odict_keys(['last_hidden_state', 'pooler_output', 'attentions'])"
      ]
     },
     "execution_count": 35,
     "metadata": {},
     "output_type": "execute_result"
    }
   ],
   "source": [
    "from transformers import BertTokenizer, BertModel\n",
    "tokenizer = BertTokenizer.from_pretrained('bert-base-uncased')\n",
    "model = BertModel.from_pretrained(\"bert-base-uncased\")\n",
    "text = \"I am a student majoring in computer science\"\n",
    "encoded_input = tokenizer(text, return_tensors='pt',)\n",
    "output = model(**encoded_input,output_attentions=True)\n",
    "output.keys()"
   ]
  },
  {
   "cell_type": "code",
   "execution_count": 36,
   "metadata": {},
   "outputs": [
    {
     "data": {
      "text/plain": [
       "torch.Size([12, 11, 11])"
      ]
     },
     "execution_count": 36,
     "metadata": {},
     "output_type": "execute_result"
    }
   ],
   "source": [
    "output.attentions[-1][0].shape"
   ]
  },
  {
   "cell_type": "code",
   "execution_count": 37,
   "metadata": {},
   "outputs": [
    {
     "data": {
      "text/plain": [
       "tensor([[0.1634, 0.0378, 0.1396, 0.0279, 0.0160, 0.0101, 0.0033, 0.0046, 0.0285,\n",
       "         0.0270, 0.5416],\n",
       "        [0.0253, 0.0120, 0.0235, 0.0158, 0.0201, 0.0116, 0.0069, 0.0042, 0.0116,\n",
       "         0.0155, 0.8535],\n",
       "        [0.0145, 0.0050, 0.0116, 0.0074, 0.0094, 0.0050, 0.0028, 0.0033, 0.0064,\n",
       "         0.0107, 0.9240],\n",
       "        [0.0073, 0.0056, 0.0089, 0.0098, 0.0173, 0.0127, 0.0058, 0.0087, 0.0135,\n",
       "         0.0169, 0.8934],\n",
       "        [0.0239, 0.0039, 0.0085, 0.0147, 0.0168, 0.0187, 0.0108, 0.0121, 0.0219,\n",
       "         0.0397, 0.8290],\n",
       "        [0.0251, 0.0048, 0.0116, 0.0130, 0.0226, 0.0203, 0.0090, 0.0093, 0.0198,\n",
       "         0.0589, 0.8057],\n",
       "        [0.0127, 0.0024, 0.0060, 0.0084, 0.0236, 0.0194, 0.0049, 0.0082, 0.0089,\n",
       "         0.0219, 0.8836],\n",
       "        [0.0185, 0.0052, 0.0068, 0.0135, 0.0253, 0.0339, 0.0105, 0.0206, 0.0359,\n",
       "         0.0674, 0.7625],\n",
       "        [0.0104, 0.0025, 0.0039, 0.0048, 0.0046, 0.0046, 0.0021, 0.0081, 0.0114,\n",
       "         0.0152, 0.9324],\n",
       "        [0.0302, 0.0097, 0.0226, 0.0130, 0.0214, 0.0149, 0.0076, 0.0058, 0.0162,\n",
       "         0.0556, 0.8030],\n",
       "        [0.0071, 0.0039, 0.0051, 0.0038, 0.0064, 0.0061, 0.0021, 0.0020, 0.0043,\n",
       "         0.0037, 0.9555]], grad_fn=<SelectBackward0>)"
      ]
     },
     "execution_count": 37,
     "metadata": {},
     "output_type": "execute_result"
    }
   ],
   "source": [
    "output.attentions[-1][0][0]"
   ]
  },
  {
   "cell_type": "code",
   "execution_count": 38,
   "metadata": {},
   "outputs": [
    {
     "data": {
      "text/plain": [
       "'I am a student majoring in computer science'"
      ]
     },
     "execution_count": 38,
     "metadata": {},
     "output_type": "execute_result"
    }
   ],
   "source": [
    "text"
   ]
  },
  {
   "cell_type": "code",
   "execution_count": 39,
   "metadata": {},
   "outputs": [
    {
     "data": {
      "text/plain": [
       "{'input_ids': tensor([[ 101, 1045, 2572, 1037, 3076, 2350, 2075, 1999, 3274, 2671,  102]]), 'token_type_ids': tensor([[0, 0, 0, 0, 0, 0, 0, 0, 0, 0, 0]]), 'attention_mask': tensor([[1, 1, 1, 1, 1, 1, 1, 1, 1, 1, 1]])}"
      ]
     },
     "execution_count": 39,
     "metadata": {},
     "output_type": "execute_result"
    }
   ],
   "source": [
    "encoded_input"
   ]
  },
  {
   "cell_type": "code",
   "execution_count": 40,
   "metadata": {},
   "outputs": [
    {
     "data": {
      "text/plain": [
       "['[CLS]',\n",
       " 'i',\n",
       " 'am',\n",
       " 'a',\n",
       " 'student',\n",
       " 'major',\n",
       " '##ing',\n",
       " 'in',\n",
       " 'computer',\n",
       " 'science',\n",
       " '[SEP]']"
      ]
     },
     "execution_count": 40,
     "metadata": {},
     "output_type": "execute_result"
    }
   ],
   "source": [
    "tokenizer.convert_ids_to_tokens(encoded_input['input_ids'][0])"
   ]
  },
  {
   "cell_type": "code",
   "execution_count": 3,
   "metadata": {},
   "outputs": [
    {
     "name": "stdout",
     "output_type": "stream",
     "text": [
      "[6542, 6570, 5709, 3794, 5128, 6093, 2349, 8164, 8144, 139]\n",
      "[6542, 6570, 5709, 3794, 5128]\n",
      "[6542, 6570]\n",
      "[6542]\n",
      "[6570]\n",
      "[5709, 3794, 5128]\n",
      "[5709]\n",
      "[3794, 5128]\n",
      "[3794]\n",
      "[5128]\n",
      "[6093, 2349, 8164, 8144, 139]\n",
      "[6093, 2349]\n",
      "[6093]\n",
      "[2349]\n",
      "[8164, 8144, 139]\n",
      "[8164]\n",
      "[8144, 139]\n",
      "[8144]\n",
      "[139]\n",
      "[139]\n"
     ]
    }
   ],
   "source": [
    "def merge_sort(ls):\n",
    "    print(ls)\n",
    "    if len(ls)<=1:\n",
    "        return ls\n",
    "    mid = len(ls)//2\n",
    "    ls1 = merge_sort(ls[0:mid])\n",
    "    ls2 = merge_sort(ls[mid:])\n",
    "    print(ls,ls1,ls2)\n",
    "    ls3 = []\n",
    "    i = 0\n",
    "    j = 0\n",
    "    while i<=len(ls1)-1 and j<=len(ls2)-1:\n",
    "        if ls1[i]>ls2[j]:\n",
    "            ls3.append(ls2[j])\n",
    "            j += 1\n",
    "        else:\n",
    "           ls3.append(ls1[i])\n",
    "           i += 1\n",
    "    return ls3\n",
    "\n",
    "ls4 = merge_sort([6542, 6570, 5709, 3794, 5128, 6093, 2349, 8164, 8144, 139])\n",
    "print(ls4)"
   ]
  }
 ],
 "metadata": {
  "kernelspec": {
   "display_name": "py38_native",
   "language": "python",
   "name": "python3"
  },
  "language_info": {
   "codemirror_mode": {
    "name": "ipython",
    "version": 3
   },
   "file_extension": ".py",
   "mimetype": "text/x-python",
   "name": "python",
   "nbconvert_exporter": "python",
   "pygments_lexer": "ipython3",
   "version": "3.8.13"
  }
 },
 "nbformat": 4,
 "nbformat_minor": 2
}
