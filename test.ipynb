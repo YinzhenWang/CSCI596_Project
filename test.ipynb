{
 "cells": [
  {
   "cell_type": "code",
   "execution_count": null,
   "metadata": {},
   "outputs": [],
   "source": [
    "from transformers import BertTokenizer, BertModel\n",
    "tokenizer = BertTokenizer.from_pretrained('bert-base-uncased')\n",
    "model = BertModel.from_pretrained(\"bert-base-uncased\")\n",
    "text = \"I am a student majoring in computer science\"\n",
    "encoded_input = tokenizer(text, return_tensors='pt',)\n",
    "output = model(**encoded_input,output_attentions=True)\n",
    "output.keys()"
   ]
  },
  {
   "cell_type": "code",
   "execution_count": null,
   "metadata": {},
   "outputs": [],
   "source": [
    "output.attentions[-1].shape"
   ]
  },
  {
   "cell_type": "code",
   "execution_count": null,
   "metadata": {},
   "outputs": [],
   "source": [
    "output.attentions[-1][0][0]"
   ]
  },
  {
   "cell_type": "code",
   "execution_count": null,
   "metadata": {},
   "outputs": [],
   "source": [
    "text"
   ]
  },
  {
   "cell_type": "code",
   "execution_count": null,
   "metadata": {},
   "outputs": [],
   "source": [
    "encoded_input"
   ]
  },
  {
   "cell_type": "code",
   "execution_count": null,
   "metadata": {},
   "outputs": [],
   "source": [
    "tokenizer.convert_ids_to_tokens(encoded_input['input_ids'][0])"
   ]
  },
  {
   "cell_type": "code",
   "execution_count": null,
   "metadata": {},
   "outputs": [],
   "source": [
    "from models import run_model\n",
    "import gradio as gr\n",
    "import multiprocessing\n",
    "\n",
    "from draw import initialize_window, render_image\n",
    " \n",
    "def create_image_process(text, model, layer, head, result_queue):\n",
    "    attentions, tokens = run_model(text, model, layer, head)\n",
    "    window = initialize_window(model, layer, head, False)\n",
    "    image, image_name = render_image(window, tokens, attentions)\n",
    "    result_queue.put(image_name)\n",
    "\n",
    "def run(text, model, layer, head):\n",
    "    result_queue = multiprocessing.Queue()\n",
    "\n",
    "    process = multiprocessing.Process(\n",
    "        target=create_image_process,\n",
    "        args=(text, model, layer, head, result_queue),\n",
    "    )\n",
    "\n",
    "    process.start()\n",
    "    process.join()\n",
    "\n",
    "    # Retrieve the result from the queue\n",
    "    image = result_queue.get()\n",
    "    return image\n",
    "\n",
    "demo = gr.Interface(\n",
    "    fn = run,\n",
    "    inputs = [\n",
    "        gr.Textbox(label=\"Text\"),\n",
    "        gr.Dropdown(\n",
    "            [\"bert-base-uncased\", \"dog\", \"bird\"], label=\"Model name\", info=\"choose a number\"\n",
    "        ),\n",
    "        gr.Slider(0, 11, step=1, value=11, label=\"layer\", info=\"Choose between 0 and 11\"),\n",
    "        gr.Slider(0, 11, step=1, value=4, label=\"head\", info=\"Choose between 0 and 11\"),\n",
    "\n",
    "    ],\n",
    "    outputs = gr.Image()\n",
    ")\n",
    "\n",
    "\n",
    "if __name__ == \"__main__\":\n",
    "    demo.launch(share=True)"
   ]
  }
 ],
 "metadata": {
  "kernelspec": {
   "display_name": "py38_native",
   "language": "python",
   "name": "python3"
  },
  "language_info": {
   "codemirror_mode": {
    "name": "ipython",
    "version": 3
   },
   "file_extension": ".py",
   "mimetype": "text/x-python",
   "name": "python",
   "nbconvert_exporter": "python",
   "pygments_lexer": "ipython3",
   "version": "3.8.18"
  }
 },
 "nbformat": 4,
 "nbformat_minor": 2
}
