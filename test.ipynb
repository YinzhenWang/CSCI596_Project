{
 "cells": [
  {
   "cell_type": "code",
   "execution_count": 1,
   "metadata": {},
   "outputs": [
    {
     "name": "stderr",
     "output_type": "stream",
     "text": [
      "Some weights of the model checkpoint at bert-base-uncased were not used when initializing BertModel: ['cls.predictions.decoder.weight', 'cls.seq_relationship.weight', 'cls.predictions.transform.dense.bias', 'cls.seq_relationship.bias', 'cls.predictions.transform.LayerNorm.bias', 'cls.predictions.transform.LayerNorm.weight', 'cls.predictions.bias', 'cls.predictions.transform.dense.weight']\n",
      "- This IS expected if you are initializing BertModel from the checkpoint of a model trained on another task or with another architecture (e.g. initializing a BertForSequenceClassification model from a BertForPreTraining model).\n",
      "- This IS NOT expected if you are initializing BertModel from the checkpoint of a model that you expect to be exactly identical (initializing a BertForSequenceClassification model from a BertForSequenceClassification model).\n"
     ]
    },
    {
     "data": {
      "text/plain": [
       "odict_keys(['last_hidden_state', 'pooler_output', 'attentions'])"
      ]
     },
     "execution_count": 1,
     "metadata": {},
     "output_type": "execute_result"
    }
   ],
   "source": [
    "from transformers import BertTokenizer, BertModel\n",
    "tokenizer = BertTokenizer.from_pretrained('bert-base-uncased')\n",
    "model = BertModel.from_pretrained(\"bert-base-uncased\")\n",
    "text = \"I am a student majoring in computer science\"\n",
    "encoded_input = tokenizer(text, return_tensors='pt',)\n",
    "output = model(**encoded_input,output_attentions=True)\n",
    "output.keys()"
   ]
  },
  {
   "cell_type": "code",
   "execution_count": 3,
   "metadata": {},
   "outputs": [
    {
     "data": {
      "text/plain": [
       "torch.Size([1, 12, 11, 11])"
      ]
     },
     "execution_count": 3,
     "metadata": {},
     "output_type": "execute_result"
    }
   ],
   "source": [
    "output.attentions[-1].shape"
   ]
  },
  {
   "cell_type": "code",
   "execution_count": 37,
   "metadata": {},
   "outputs": [
    {
     "data": {
      "text/plain": [
       "tensor([[0.1634, 0.0378, 0.1396, 0.0279, 0.0160, 0.0101, 0.0033, 0.0046, 0.0285,\n",
       "         0.0270, 0.5416],\n",
       "        [0.0253, 0.0120, 0.0235, 0.0158, 0.0201, 0.0116, 0.0069, 0.0042, 0.0116,\n",
       "         0.0155, 0.8535],\n",
       "        [0.0145, 0.0050, 0.0116, 0.0074, 0.0094, 0.0050, 0.0028, 0.0033, 0.0064,\n",
       "         0.0107, 0.9240],\n",
       "        [0.0073, 0.0056, 0.0089, 0.0098, 0.0173, 0.0127, 0.0058, 0.0087, 0.0135,\n",
       "         0.0169, 0.8934],\n",
       "        [0.0239, 0.0039, 0.0085, 0.0147, 0.0168, 0.0187, 0.0108, 0.0121, 0.0219,\n",
       "         0.0397, 0.8290],\n",
       "        [0.0251, 0.0048, 0.0116, 0.0130, 0.0226, 0.0203, 0.0090, 0.0093, 0.0198,\n",
       "         0.0589, 0.8057],\n",
       "        [0.0127, 0.0024, 0.0060, 0.0084, 0.0236, 0.0194, 0.0049, 0.0082, 0.0089,\n",
       "         0.0219, 0.8836],\n",
       "        [0.0185, 0.0052, 0.0068, 0.0135, 0.0253, 0.0339, 0.0105, 0.0206, 0.0359,\n",
       "         0.0674, 0.7625],\n",
       "        [0.0104, 0.0025, 0.0039, 0.0048, 0.0046, 0.0046, 0.0021, 0.0081, 0.0114,\n",
       "         0.0152, 0.9324],\n",
       "        [0.0302, 0.0097, 0.0226, 0.0130, 0.0214, 0.0149, 0.0076, 0.0058, 0.0162,\n",
       "         0.0556, 0.8030],\n",
       "        [0.0071, 0.0039, 0.0051, 0.0038, 0.0064, 0.0061, 0.0021, 0.0020, 0.0043,\n",
       "         0.0037, 0.9555]], grad_fn=<SelectBackward0>)"
      ]
     },
     "execution_count": 37,
     "metadata": {},
     "output_type": "execute_result"
    }
   ],
   "source": [
    "output.attentions[-1][0][0]"
   ]
  },
  {
   "cell_type": "code",
   "execution_count": 38,
   "metadata": {},
   "outputs": [
    {
     "data": {
      "text/plain": [
       "'I am a student majoring in computer science'"
      ]
     },
     "execution_count": 38,
     "metadata": {},
     "output_type": "execute_result"
    }
   ],
   "source": [
    "text"
   ]
  },
  {
   "cell_type": "code",
   "execution_count": 39,
   "metadata": {},
   "outputs": [
    {
     "data": {
      "text/plain": [
       "{'input_ids': tensor([[ 101, 1045, 2572, 1037, 3076, 2350, 2075, 1999, 3274, 2671,  102]]), 'token_type_ids': tensor([[0, 0, 0, 0, 0, 0, 0, 0, 0, 0, 0]]), 'attention_mask': tensor([[1, 1, 1, 1, 1, 1, 1, 1, 1, 1, 1]])}"
      ]
     },
     "execution_count": 39,
     "metadata": {},
     "output_type": "execute_result"
    }
   ],
   "source": [
    "encoded_input"
   ]
  },
  {
   "cell_type": "code",
   "execution_count": 40,
   "metadata": {},
   "outputs": [
    {
     "data": {
      "text/plain": [
       "['[CLS]',\n",
       " 'i',\n",
       " 'am',\n",
       " 'a',\n",
       " 'student',\n",
       " 'major',\n",
       " '##ing',\n",
       " 'in',\n",
       " 'computer',\n",
       " 'science',\n",
       " '[SEP]']"
      ]
     },
     "execution_count": 40,
     "metadata": {},
     "output_type": "execute_result"
    }
   ],
   "source": [
    "tokenizer.convert_ids_to_tokens(encoded_input['input_ids'][0])"
   ]
  },
  {
   "cell_type": "code",
   "execution_count": 1,
   "metadata": {},
   "outputs": [
    {
     "name": "stderr",
     "output_type": "stream",
     "text": [
      "Some weights of the model checkpoint at bert-base-uncased were not used when initializing BertModel: ['cls.seq_relationship.bias', 'cls.seq_relationship.weight', 'cls.predictions.decoder.weight', 'cls.predictions.transform.LayerNorm.weight', 'cls.predictions.transform.dense.bias', 'cls.predictions.bias', 'cls.predictions.transform.dense.weight', 'cls.predictions.transform.LayerNorm.bias']\n",
      "- This IS expected if you are initializing BertModel from the checkpoint of a model trained on another task or with another architecture (e.g. initializing a BertForSequenceClassification model from a BertForPreTraining model).\n",
      "- This IS NOT expected if you are initializing BertModel from the checkpoint of a model that you expect to be exactly identical (initializing a BertForSequenceClassification model from a BertForSequenceClassification model).\n"
     ]
    },
    {
     "name": "stdout",
     "output_type": "stream",
     "text": [
      "[0.04739105 0.05787565 0.05527516 0.01802472 0.01515431 0.01960301\n",
      " 0.01068777 0.01878947 0.02054741]\n",
      "[0.03210671 0.07863815 0.04545541 0.01895174 0.01878791 0.01964078\n",
      " 0.00791848 0.01575967 0.01473647]\n",
      "[0.02710699 0.05258351 0.10386422 0.03161716 0.03162381 0.03451192\n",
      " 0.02034858 0.0186715  0.02395978]\n",
      "[0.01489629 0.02300747 0.02977331 0.08656584 0.05202179 0.03008819\n",
      " 0.02760742 0.01855078 0.03773432]\n",
      "[0.00912692 0.01523967 0.02082295 0.03377076 0.08587248 0.02566974\n",
      " 0.03290273 0.01725455 0.02829416]\n",
      "[0.00944429 0.01612082 0.02529251 0.02973573 0.03748034 0.08742329\n",
      " 0.0593124  0.01214866 0.04050254]\n",
      "[0.00565027 0.00575811 0.01055456 0.01797161 0.03353141 0.02104148\n",
      " 0.16338632 0.02817653 0.02459223]\n",
      "[0.01491515 0.02031128 0.0205161  0.02470903 0.0262829  0.01659597\n",
      " 0.03740934 0.11610521 0.03358911]\n",
      "[0.01459586 0.0197337  0.02168905 0.03646612 0.04229833 0.02487212\n",
      " 0.02991213 0.03306521 0.0726692 ]\n"
     ]
    },
    {
     "name": "stderr",
     "output_type": "stream",
     "text": [
      "/Users/wangyinzhen/miniforge3/envs/py38_native/lib/python3.8/site-packages/PIL/ImageDraw.py:385: FutureWarning: elementwise comparison failed; returning scalar instead, but in the future will perform elementwise comparison\n",
      "  return split_character in text\n"
     ]
    },
    {
     "ename": "IndexError",
     "evalue": "string index out of range",
     "output_type": "error",
     "traceback": [
      "\u001b[0;31m---------------------------------------------------------------------------\u001b[0m",
      "\u001b[0;31mIndexError\u001b[0m                                Traceback (most recent call last)",
      "\u001b[1;32m/Users/wangyinzhen/PycharmProjects/CSCI596_Project/test.ipynb 单元格 7\u001b[0m line \u001b[0;36m7\n\u001b[1;32m      <a href='vscode-notebook-cell:/Users/wangyinzhen/PycharmProjects/CSCI596_Project/test.ipynb#W6sZmlsZQ%3D%3D?line=3'>4</a>\u001b[0m tokens, attention_matrix \u001b[39m=\u001b[39m run_model(\u001b[39m'\u001b[39m\u001b[39mbert-base-uncased\u001b[39m\u001b[39m'\u001b[39m, text,\u001b[39m11\u001b[39m,\u001b[39m'\u001b[39m\u001b[39maverage\u001b[39m\u001b[39m'\u001b[39m)\n\u001b[1;32m      <a href='vscode-notebook-cell:/Users/wangyinzhen/PycharmProjects/CSCI596_Project/test.ipynb#W6sZmlsZQ%3D%3D?line=5'>6</a>\u001b[0m window \u001b[39m=\u001b[39m initialize_window()\n\u001b[0;32m----> <a href='vscode-notebook-cell:/Users/wangyinzhen/PycharmProjects/CSCI596_Project/test.ipynb#W6sZmlsZQ%3D%3D?line=6'>7</a>\u001b[0m render(window, tokens[\u001b[39m1\u001b[39;49m:\u001b[39m-\u001b[39;49m\u001b[39m1\u001b[39;49m], attention_matrix)\n",
      "File \u001b[0;32m~/PycharmProjects/CSCI596_Project/draw.py:116\u001b[0m, in \u001b[0;36mrender\u001b[0;34m(window, tokens, attention_matrix)\u001b[0m\n\u001b[1;32m    114\u001b[0m \u001b[39mfor\u001b[39;00m j, token2 \u001b[39min\u001b[39;00m \u001b[39menumerate\u001b[39m(tokens):\n\u001b[1;32m    115\u001b[0m     \u001b[39mif\u001b[39;00m i \u001b[39m!=\u001b[39m j:\n\u001b[0;32m--> 116\u001b[0m         weight \u001b[39m=\u001b[39m attention_matrix[i][j]\n\u001b[1;32m    117\u001b[0m         \u001b[39m# 设置颜色基于权重（您可能需要调整颜色以匹配您的具体权重范围）\u001b[39;00m\n\u001b[1;32m    118\u001b[0m         glColor3f(weight, weight, weight)  \u001b[39m# 假设权重在0到1之间\u001b[39;00m\n",
      "\u001b[0;31mIndexError\u001b[0m: string index out of range"
     ]
    }
   ],
   "source": [
    "from models import run_model\n",
    "from draw import initialize_window, render\n",
    "text = \"I am a student majoring in computer science\"\n",
    "tokens, attention_matrix = run_model('bert-base-uncased', text,11,'average')\n",
    "\n",
    "window = initialize_window()\n",
    "render(window, tokens, attention_matrix)"
   ]
  }
 ],
 "metadata": {
  "kernelspec": {
   "display_name": "py38_native",
   "language": "python",
   "name": "python3"
  },
  "language_info": {
   "codemirror_mode": {
    "name": "ipython",
    "version": 3
   },
   "file_extension": ".py",
   "mimetype": "text/x-python",
   "name": "python",
   "nbconvert_exporter": "python",
   "pygments_lexer": "ipython3",
   "version": "3.8.13"
  }
 },
 "nbformat": 4,
 "nbformat_minor": 2
}
